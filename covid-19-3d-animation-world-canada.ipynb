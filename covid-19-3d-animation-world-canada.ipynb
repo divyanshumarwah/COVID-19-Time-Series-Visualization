{
    "cells": [
        {
            "cell_type": "markdown",
            "metadata": {},
            "source": "\n"
        },
        {
            "cell_type": "code",
            "execution_count": null,
            "metadata": {},
            "outputs": [],
            "source": [
                "knitr::opts_chunk$set(warning = FALSE,\n",
                "                      error = FALSE)\n"
            ]
        },
        {
            "cell_type": "markdown",
            "metadata": {},
            "source": [
                "\n",
                "\n"
            ]
        },
        {
            "cell_type": "code",
            "execution_count": null,
            "metadata": {},
            "outputs": [],
            "source": [
                "#install.packages(\"tidyverse\")\n",
                "#install.packages(\"lubridate\")\n",
                "#install.packages(\"plotly\")\n",
                "#install.packages(\"DT\")\n",
                "#install.packages(\"gifski\")\n",
                "#install.packages(\"ggthemes\")\n",
                "#install.packages(\"gganimate\")\n",
                "\n",
                "#to view the outputs in notebook, remove include false from r blocks\n"
            ]
        },
        {
            "cell_type": "markdown",
            "metadata": {},
            "source": "\n"
        },
        {
            "cell_type": "code",
            "execution_count": null,
            "metadata": {},
            "outputs": [],
            "source": [
                "library(tidyverse)\n",
                "library(lubridate)\n",
                "library(plotly)\n",
                "library(DT)\n",
                "library(ggthemes)\n",
                "library(gganimate)\n"
            ]
        },
        {
            "cell_type": "markdown",
            "metadata": {},
            "source": "\n"
        },
        {
            "cell_type": "code",
            "execution_count": null,
            "metadata": {},
            "outputs": [],
            "source": [
                "# time series of confirmed cases in each area\n",
                "ts_confirmed <- read_csv(\n",
                "  file = \"./novel-corona-virus-2019-dataset/time_series_covid_19_confirmed.csv\",\n",
                "  col_types = cols(\n",
                "    .default = col_double(),\n",
                "    `Province/State` = col_character(),\n",
                "    `Country/Region` = col_character()\n",
                "  )) %>%\n",
                "  pivot_longer(cols = -c(`Province/State`, `Country/Region`, Lat, Long), names_to = \"Date\", values_to = \"Confirmed\") %>%\n",
                "  mutate(Date = mdy(Date))\n",
                "\n",
                "head(ts_confirmed)\n"
            ]
        },
        {
            "cell_type": "markdown",
            "metadata": {},
            "source": [
                "\n",
                "\n"
            ]
        },
        {
            "cell_type": "code",
            "execution_count": null,
            "metadata": {},
            "outputs": [],
            "source": [
                "# time series of recovered cases in each area\n",
                "ts_recovered <- read_csv(\n",
                "  file = \"./novel-corona-virus-2019-dataset/time_series_covid_19_recovered.csv\",\n",
                "  col_types = cols(\n",
                "    .default = col_double(),\n",
                "    `Province/State` = col_character(),\n",
                "    `Country/Region` = col_character()\n",
                "  )) %>%\n",
                "  pivot_longer(cols = -c(`Province/State`, `Country/Region`, Lat, Long), names_to = \"Date\", values_to = \"Recovered\") %>%\n",
                "  mutate(Date = mdy(Date))\n",
                "head(ts_recovered)\n"
            ]
        },
        {
            "cell_type": "markdown",
            "metadata": {},
            "source": [
                "\n",
                "\n"
            ]
        },
        {
            "cell_type": "code",
            "execution_count": null,
            "metadata": {},
            "outputs": [],
            "source": [
                "# time series of deaths cases in each area\n",
                "ts_deaths <- read_csv(\n",
                "  file = \"./novel-corona-virus-2019-dataset/time_series_covid_19_deaths.csv\",\n",
                "  col_types = cols(\n",
                "    .default = col_double(),\n",
                "    `Province/State` = col_character(),\n",
                "    `Country/Region` = col_character()\n",
                "  )) %>%\n",
                "  pivot_longer(cols = -c(`Province/State`, `Country/Region`, Lat, Long), names_to = \"Date\", values_to = \"Deaths\") %>%\n",
                "  mutate(Date = mdy(Date))\n",
                "head(ts_deaths)\n"
            ]
        },
        {
            "cell_type": "markdown",
            "metadata": {},
            "source": [
                "\n",
                "\n"
            ]
        },
        {
            "cell_type": "code",
            "execution_count": null,
            "metadata": {},
            "outputs": [],
            "source": [
                "# time series of all 3 cases in each area\n",
                "ts_all <- ts_confirmed %>%\n",
                "  left_join(ts_recovered) %>%\n",
                "  mutate(Recovered = replace_na(Recovered, replace = 0)) %>%\n",
                "  left_join(ts_deaths) %>%\n",
                "  mutate(Deaths = replace_na(Deaths, replace = 0))\n",
                "head(ts_all)\n"
            ]
        },
        {
            "cell_type": "markdown",
            "metadata": {},
            "source": [
                "\n",
                "\n"
            ]
        },
        {
            "cell_type": "code",
            "execution_count": null,
            "metadata": {},
            "outputs": [],
            "source": [
                "# group by region and fetch the latest data\n",
                "region_recent <- ts_all %>%\n",
                "  filter(Date == max(Date)) %>%\n",
                "  group_by(`Country/Region`, Date) %>%\n",
                "  summarise(Confirmed = sum(Confirmed),\n",
                "            Recovered = sum(Recovered),\n",
                "            Deaths = sum(Deaths))\n",
                "\n",
                "head(region_recent)\n"
            ]
        },
        {
            "cell_type": "markdown",
            "metadata": {},
            "source": "\n"
        },
        {
            "cell_type": "code",
            "execution_count": null,
            "metadata": {},
            "outputs": [],
            "source": [
                "# get country code\n",
                "code <- read_csv('./novel-corona-virus-2019-dataset/country_codes.csv',\n",
                "                 col_types = cols(\n",
                "                   COUNTRY = col_character(),\n",
                "                   `GDP (BILLIONS)` = col_double(),\n",
                "                   CODE = col_character())) %>%\n",
                "  select(COUNTRY, CODE) %>%\n",
                "  rename(Region = COUNTRY,\n",
                "         Code  = CODE) %>%\n",
                "  rownames_to_column(\"id\")\n",
                "code$id <- as.integer(code$id)\n",
                "head(code)\n"
            ]
        },
        {
            "cell_type": "markdown",
            "metadata": {},
            "source": "\n"
        },
        {
            "cell_type": "code",
            "execution_count": null,
            "metadata": {},
            "outputs": [],
            "source": [
                "# Rename the unmatched region name in code\n",
                "code$Region <- code$Region %>%\n",
                "  str_replace(pattern = \"United States\", replacement = \"US\") %>%\n",
                "  str_replace(pattern = \"Macedonia\", replacement = \"North Macedonia\") %>%\n",
                "  str_replace(pattern = \"Czech Republic\", replacement = \"Czechia\") %>%\n",
                "  str_replace(pattern = \"Taiwan\", replacement = \"Taiwan*\") %>%\n",
                "  str_replace(pattern = \"West Bank\", replacement = \"West Bank and Gaza\") %>%\n",
                "  str_replace(pattern = \"Congo, Democratic Republic of the\", replacement = \"Congo (Kinshasa)\") %>%\n",
                "  str_replace(pattern = \"Congo, Republic of the\", replacement = \"Congo (Brazzaville)\") %>%\n",
                "  str_replace(pattern = \"Bahamas, The\", replacement = \"Bahamas\") %>%\n",
                "  str_replace(pattern = \"Swaziland\", replacement = \"Eswatini\") %>%\n",
                "  str_replace(pattern = \"Gambia, The\", replacement = \"Gambia\")\n"
            ]
        },
        {
            "cell_type": "markdown",
            "metadata": {},
            "source": "\n"
        },
        {
            "cell_type": "code",
            "execution_count": null,
            "metadata": {},
            "outputs": [],
            "source": [
                "# recent cumulative case and join daily case summary with code name\n",
                "# remove Diamond Princess and MS Zaandam, they are boat, not region\n",
                "region_recent_code <- region_recent %>%\n",
                "  filter(`Country/Region` != \"Diamond Princess\") %>%\n",
                "  filter(`Country/Region` != \"MS Zaandam\") %>%\n",
                "  left_join(code, by = c(\"Country/Region\" = \"Region\")) %>%\n",
                "  arrange(desc(Confirmed))\n"
            ]
        },
        {
            "cell_type": "markdown",
            "metadata": {},
            "source": "\n"
        },
        {
            "cell_type": "code",
            "execution_count": null,
            "metadata": {},
            "outputs": [],
            "source": [
                "#Set country boundaries as light grey,  hex code #D3D3D3\n",
                "line <- list(color = toRGB(\"#D3D3D3\"), width = 0.2)\n",
                "\n",
                "#Specify map projection and options\n",
                "geo <- list(\n",
                "     showframe = FALSE,\n",
                "     showcoastlines = FALSE,\n",
                "     projection = list(type = 'orthographic'),\n",
                "     resolution = '100',\n",
                "     showcountries = TRUE,\n",
                "     countrycolor = '#D3D3D3',\n",
                "     showocean = TRUE,\n",
                "     oceancolor = '#006699',\n",
                "     showlakes = TRUE,\n",
                "     lakecolor = '#a9d6f5',\n",
                "     showrivers = TRUE,\n",
                "     rivercolor = '#99c0db',\n",
                "     bgcolor = '#e8f7fc')\n"
            ]
        },
        {
            "cell_type": "markdown",
            "metadata": {},
            "source": [
                "### 3D map for Confirmed Cases in each Region\n",
                "\n"
            ]
        },
        {
            "cell_type": "code",
            "execution_count": null,
            "metadata": {},
            "outputs": [],
            "source": [
                "confirm_map_3d <- plot_geo() %>%\n",
                "  layout(geo = geo,\n",
                "         paper_bgcolor = '#e8f7fc') %>%\n",
                "  add_trace(data = region_recent_code,\n",
                "            z = ~Confirmed, \n",
                "            color = ~Confirmed, \n",
                "            colors = 'Reds',\n",
                "            text = ~`Country/Region`,\n",
                "            locations = ~Code, \n",
                "            marker = list(line = line))\n"
            ]
        },
        {
            "cell_type": "markdown",
            "metadata": {},
            "source": [
                "\n",
                "\n"
            ]
        },
        {
            "cell_type": "code",
            "execution_count": null,
            "metadata": {},
            "outputs": [],
            "source": [
                "confirm_map_3d\n",
                "\n"
            ]
        },
        {
            "cell_type": "markdown",
            "metadata": {},
            "source": [
                "### Search by Region\n",
                "\n"
            ]
        },
        {
            "cell_type": "code",
            "execution_count": null,
            "metadata": {},
            "outputs": [],
            "source": [
                "regions_interactive_table <- region_recent_code %>%\n",
                "  select(`Country/Region`,Code, Date, Confirmed, Recovered, Deaths) %>%\n",
                "  arrange(desc(Confirmed)) %>%\n",
                "  datatable(\n",
                "    rownames = FALSE,\n",
                "    fillContainer = TRUE,\n",
                "    options = list(\n",
                "      bPaginate = FALSE,\n",
                "      pageLength = 10)\n",
                "  )\n"
            ]
        },
        {
            "cell_type": "markdown",
            "metadata": {},
            "source": [
                "\n",
                "\n"
            ]
        },
        {
            "cell_type": "code",
            "execution_count": null,
            "metadata": {},
            "outputs": [],
            "source": [
                "regions_interactive_table\n",
                "\n"
            ]
        },
        {
            "cell_type": "markdown",
            "metadata": {},
            "source": [
                "### Cumulative Cases in the World\n",
                "\n"
            ]
        },
        {
            "cell_type": "code",
            "execution_count": null,
            "metadata": {},
            "outputs": [],
            "source": [
                "ts_all_date <- ts_all %>%\n",
                "  rename(Region = `Country/Region`) %>%\n",
                "  group_by(Date) %>%\n",
                "  summarise(Confirmed = sum(Confirmed),\n",
                "            Deaths = sum(Deaths),\n",
                "            Recovered = sum(Recovered))\n"
            ]
        },
        {
            "cell_type": "markdown",
            "metadata": {},
            "source": [
                "\n",
                "\n"
            ]
        },
        {
            "cell_type": "code",
            "execution_count": null,
            "metadata": {},
            "outputs": [],
            "source": [
                "ts_date_long <- ts_all_date %>% \n",
                "    select(-Confirmed) %>%\n",
                "    pivot_longer(cols = -Date, names_to = \"Status\", values_to = \"Cases\")\n"
            ]
        },
        {
            "cell_type": "markdown",
            "metadata": {},
            "source": [
                "\n",
                "\n"
            ]
        },
        {
            "cell_type": "code",
            "execution_count": null,
            "metadata": {},
            "outputs": [],
            "source": [
                "barchart <- ggplot(data = ts_all_date, aes(x = Date)) +\n",
                "  geom_bar(aes(y = Confirmed), position = \"stack\", stat = \"identity\", fill = \"#f02929\") +  #red color\n",
                "  geom_bar(data = ts_date_long, aes(y = Cases, fill = Status), position = \"stack\", stat = \"identity\") +\n",
                "  scale_fill_manual(values = c(\"#000000\", \"#00d400\")) +\n",
                "  scale_y_continuous(labels = scales::label_number_si(accuracy = 0.1)) +\n",
                "  theme_solarized(base_size = 10, light = TRUE)+\n",
                "  theme(plot.margin = margin(0, 0, 0, 0, \"pt\"),\n",
                "        panel.background = element_rect(fill = \"White\"),\n",
                "        legend.position = \"bottom\",\n",
                "        axis.title = element_blank(),\n",
                "        axis.ticks = element_blank())\n",
                "show_barchart <- ggplotly(barchart) %>% \n",
                "  layout(legend = list(orientation = 'h'))\n"
            ]
        },
        {
            "cell_type": "markdown",
            "metadata": {},
            "source": [
                "\n",
                "\n"
            ]
        },
        {
            "cell_type": "code",
            "execution_count": null,
            "metadata": {},
            "outputs": [],
            "source": [
                "show_barchart\n",
                "\n"
            ]
        },
        {
            "cell_type": "markdown",
            "metadata": {},
            "source": [
                "### Time Series Increment in the World - Animated\n",
                "\n"
            ]
        },
        {
            "cell_type": "code",
            "execution_count": null,
            "metadata": {},
            "outputs": [],
            "source": [
                "ts_increment_long <- ts_all_date %>%\n",
                "  mutate(Confirmed = Confirmed - lag(Confirmed,1), #for creating a lagged version for Ts\n",
                "            Deaths = Deaths - lag(Deaths,1),\n",
                "            Recovered = Recovered - lag(Recovered,1)) %>%\n",
                "  filter(Date != min(Date)) %>%\n",
                "  pivot_longer(-Date, names_to = \"Case\", values_to = \"Increment\")\n"
            ]
        },
        {
            "cell_type": "markdown",
            "metadata": {},
            "source": "\n"
        },
        {
            "cell_type": "code",
            "execution_count": null,
            "metadata": {},
            "outputs": [],
            "source": [
                "animate_world_increment <- \n",
                "  ggplot(data = ts_increment_long, \n",
                "         mapping = aes(x = Date, y = Increment, group = Case, color = Case)) +\n",
                "  geom_line() +\n",
                "  scale_color_brewer(palette = \"Dark2\") +\n",
                "  geom_segment(aes(xend = max(Date)+1, yend = Increment), linetype = 2, colour = 'grey') +\n",
                "  geom_text(aes(x = max(Date)+1, label = Case), hjust = 0) +\n",
                "  theme_fivethirtyeight() +\n",
                "  coord_cartesian(xlim = c(min(ts_increment_long$Date), max(ts_increment_long$Date)+7), clip = 'off') +\n",
                "  theme(legend.position = \"none\", axis.title.x = element_blank()) +\n",
                "  guides(size = FALSE) + \n",
                "  geom_point(aes(size = Increment), alpha = 0.7) +\n",
                "  scale_size(range = c(2, 10)) +\n",
                "  transition_reveal(Date) +\n",
                "  labs(title = 'World Case Increment at Date: {frame_along}')\n",
                "world_animated_ts <- animate(animate_world_increment, nframes = 200, fps = 10, end_pause = 50)\n",
                "anim_save(\"animate_world_increment.gif\", animation = world_animated_ts)\n"
            ]
        },
        {
            "cell_type": "markdown",
            "metadata": {},
            "source": [
                "\n",
                "\n"
            ]
        },
        {
            "cell_type": "code",
            "execution_count": null,
            "metadata": {},
            "outputs": [],
            "source": [
                "world_animated_ts\n",
                "\n"
            ]
        },
        {
            "cell_type": "markdown",
            "metadata": {},
            "source": [
                "### Time Series Increment in Canada - Animated\n",
                "\n"
            ]
        },
        {
            "cell_type": "code",
            "execution_count": null,
            "metadata": {},
            "outputs": [],
            "source": [
                "state_code <- tibble(\n",
                "  \"name\" = c(\"Alberta\",\"British Columbia\",\"Manitoba\",\"New Brunswick\",\"Newfoundland and Labrador\",\"Northwest Territories\",\"Nova Scotia\",\"Ontario\",\"Prince Edward Island\",\"Quebec\",\"Saskatchewan\",\"Yukon\"),\n",
                "  \"State\" = as.factor(c(\"AB\", \"BC\", \"MB\", \"NB\", \"NL\", \"NT\", \"NS\", \"ON\",\"PE\",\"QC\",\"SK\",\"YT\")))\n",
                "\n",
                "ts_can <- ts_all %>%\n",
                "  filter(`Country/Region` == \"Canada\") %>%\n",
                "  rename(State = `Province/State`,\n",
                "         Country = `Country/Region`)\n",
                "head(ts_can)\n"
            ]
        },
        {
            "cell_type": "markdown",
            "metadata": {},
            "source": [
                "\n",
                "\n"
            ]
        },
        {
            "cell_type": "code",
            "execution_count": null,
            "metadata": {},
            "outputs": [],
            "source": [
                "# filter by the first confirmed case appeareds\n",
                "ts_can <- ts_can %>%\n",
                "  rename(name = State) %>%\n",
                "  filter(Confirmed > 0) %>%\n",
                "  left_join(state_code)\n",
                "\n",
                "head(ts_can)\n"
            ]
        },
        {
            "cell_type": "markdown",
            "metadata": {},
            "source": [
                "\n",
                "\n"
            ]
        },
        {
            "cell_type": "code",
            "execution_count": null,
            "metadata": {},
            "outputs": [],
            "source": [
                "ts_increment_can_long <- ts_can %>%\n",
                "  select(Date,Confirmed,Recovered,Deaths,State)%>%\n",
                "  group_by(State)%>%\n",
                "  mutate(Confirmed = Confirmed - lag(Confirmed,1),\n",
                "         Deaths = Deaths - lag(Deaths,1),\n",
                "         Recovered = Recovered - lag(Recovered,1))%>%\n",
                "  filter(Date != min(Date)) %>%\n",
                "  ungroup() %>%\n",
                "  group_by(Date) %>%\n",
                "  summarise(Confirmed = sum(Confirmed),\n",
                "            Recovered = sum(Recovered),\n",
                "            Deaths = sum(Deaths)) %>%\n",
                "  pivot_longer(-Date, names_to = \"Case\", values_to = \"Increment\")\n"
            ]
        },
        {
            "cell_type": "markdown",
            "metadata": {},
            "source": [
                "\n",
                "\n"
            ]
        },
        {
            "cell_type": "code",
            "execution_count": null,
            "metadata": {},
            "outputs": [],
            "source": [
                "animate_can_increment <- \n",
                "  ggplot(data = ts_increment_can_long, \n",
                "         mapping = aes(x = Date, y = Increment, group = Case, color = Case)) +\n",
                "  geom_line() +\n",
                "  scale_color_brewer(palette = \"Dark2\") +\n",
                "  geom_segment(aes(xend = max(Date)+1, yend = Increment), linetype = 2, colour = 'grey') +\n",
                "  geom_text(aes(x = max(Date)+1, label = Case), hjust = 0) +\n",
                "  theme_fivethirtyeight() +\n",
                "  coord_cartesian(xlim = c(min(ts_increment_can_long$Date), max(ts_increment_can_long$Date)+7), clip = 'off') +\n",
                "  theme(legend.position = \"none\", axis.title.x = element_blank()) +\n",
                "  guides(size = FALSE) + \n",
                "  geom_point(aes(size = Increment), alpha = 0.7) +\n",
                "  scale_size(range = c(2, 10)) +\n",
                "  transition_reveal(Date) +\n",
                "  labs(title = 'Canada Case Increment at Date: {frame_along}')\n",
                "\n",
                "can_ts_animated <- animate(animate_can_increment, nframes = 200, fps = 10, end_pause = 50)\n",
                "anim_save(\"animate_can_increment.gif\", animation = can_ts_animated)\n"
            ]
        },
        {
            "cell_type": "markdown",
            "metadata": {},
            "source": [
                "\n",
                "\n"
            ]
        },
        {
            "cell_type": "code",
            "execution_count": null,
            "metadata": {},
            "outputs": [],
            "source": [
                "can_ts_animated\n",
                "\n"
            ]
        },
        {
            "cell_type": "markdown",
            "metadata": {},
            "source": [
                "### Confirmed Cases in Canada by State - Animated\n",
                "\n"
            ]
        },
        {
            "cell_type": "code",
            "execution_count": null,
            "metadata": {},
            "outputs": [],
            "source": [
                "animate_confirmed <- \n",
                "  ggplot(data = ts_can, \n",
                "         mapping = aes(x = Date, y = Confirmed, group = State, color = State)) +\n",
                "  geom_line() +\n",
                "  scale_color_brewer(palette = \"Paired\") +  # palette from https://colorbrewer2.org/\n",
                "  scale_y_log10() +\n",
                "  geom_segment(aes(xend = max(Date)+1, yend = Confirmed), linetype = 2, colour = 'grey') +\n",
                "  geom_text(aes(x = max(Date)+1, label = State), hjust = 0) +\n",
                "  theme_fivethirtyeight() +\n",
                "  coord_cartesian(clip = 'off') +\n",
                "  theme(legend.position = \"none\", axis.title.x = element_blank()) +\n",
                "  guides(size = FALSE) + \n",
                "  geom_point(aes(size = Confirmed), alpha = 0.7) +\n",
                "  scale_size(range = c(2, 10)) +\n",
                "  transition_reveal(Date) +\n",
                "  labs(title = 'Cumulative Confirmed Cases at Date: {frame_along}')\n",
                "\n",
                "can_ts_confirmed_anim <- animate(animate_confirmed, nframes = 200, fps = 10, end_pause = 50)\n",
                "anim_save(\"./animate_confirmed_can.gif\", animation = can_ts_confirmed_anim)\n"
            ]
        },
        {
            "cell_type": "markdown",
            "metadata": {},
            "source": [
                "\n",
                "\n"
            ]
        },
        {
            "cell_type": "code",
            "execution_count": null,
            "metadata": {},
            "outputs": [],
            "source": [
                "can_ts_confirmed_anim\n",
                "\n"
            ]
        },
        {
            "cell_type": "markdown",
            "metadata": {},
            "source": [
                "### Deaths Cases in Canada by State - Animated\n",
                "\n"
            ]
        },
        {
            "cell_type": "code",
            "execution_count": null,
            "metadata": {},
            "outputs": [],
            "source": [
                "ts_can_deaths <- ts_can %>%\n",
                "  filter(Deaths > 0)\n",
                "animate_deaths <- \n",
                "  ggplot(data = ts_can_deaths, \n",
                "         mapping = aes(x = Date, y = Deaths, group = State, color = State)) +\n",
                "  geom_line() +\n",
                "  scale_color_brewer(palette = \"Paired\") +\n",
                "  geom_segment(aes(xend = max(Date)+1, yend = Deaths), linetype = 2, colour = 'grey') +\n",
                "  geom_text(aes(x = max(Date)+1, label = State), hjust = 0) +\n",
                "  theme_fivethirtyeight() +\n",
                "  coord_cartesian(clip = 'off') +\n",
                "  theme(legend.position = \"none\", axis.title.x = element_blank()) +\n",
                "  guides(size = FALSE) + \n",
                "  geom_point(aes(size = Deaths), alpha = 0.7) +\n",
                "  scale_size(range = c(2, 10)) +\n",
                "  transition_reveal(Date) +\n",
                "  labs(title = 'Cumulative Deaths Cases at Date: {frame_along}')\n",
                "\n",
                "animated_deaths <- animate(animate_deaths, nframes = 200, fps = 10, end_pause = 50)\n",
                "anim_save(\"./animate_deaths.gif\", animation = animated_deaths)\n"
            ]
        },
        {
            "cell_type": "markdown",
            "metadata": {},
            "source": [
                "\n",
                "\n"
            ]
        },
        {
            "cell_type": "code",
            "execution_count": null,
            "metadata": {},
            "outputs": [],
            "source": [
                "animated_deaths\n",
                "\n"
            ]
        }
    ],
    "metadata": {
        "anaconda-cloud": "",
        "kernelspec": {
            "display_name": "R",
            "langauge": "R",
            "name": "ir"
        },
        "language_info": {
            "codemirror_mode": "r",
            "file_extension": ".r",
            "mimetype": "text/x-r-source",
            "name": "R",
            "pygments_lexer": "r",
            "version": "3.4.1"
        }
    },
    "nbformat": 4,
    "nbformat_minor": 1
}
